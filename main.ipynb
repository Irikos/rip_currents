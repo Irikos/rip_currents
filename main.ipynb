{
 "cells": [
  {
   "cell_type": "code",
   "execution_count": 8,
   "metadata": {},
   "outputs": [],
   "source": [
    "import helper_functions as hf"
   ]
  },
  {
   "cell_type": "code",
   "execution_count": 10,
   "metadata": {},
   "outputs": [],
   "source": [
    "videos_folder = \"/home/andrei/Work/datasets/CVPR2023 Rip Current Segmentation: A Novel Benchmark and YOLOv8 Baseline Results/test videos/test videos\"\n",
    "annotations_folder = \"/home/andrei/Work/datasets/CVPR2023 Rip Current Segmentation: A Novel Benchmark and YOLOv8 Baseline Results/test videos/annotations\"\n",
    "video_frames = \"/home/andrei/Work/datasets/CVPR2023 Rip Current Segmentation: A Novel Benchmark and YOLOv8 Baseline Results/test videos/videos_frames (full)\""
   ]
  },
  {
   "cell_type": "code",
   "execution_count": 11,
   "metadata": {},
   "outputs": [
    {
     "ename": "AttributeError",
     "evalue": "module 'helper_functions' has no attribute 'process_videos'",
     "output_type": "error",
     "traceback": [
      "\u001b[0;31m---------------------------------------------------------------------------\u001b[0m",
      "\u001b[0;31mAttributeError\u001b[0m                            Traceback (most recent call last)",
      "Cell \u001b[0;32mIn[11], line 1\u001b[0m\n\u001b[0;32m----> 1\u001b[0m hf\u001b[38;5;241m.\u001b[39mprocess_videos(videos_folder, video_frames)\n",
      "\u001b[0;31mAttributeError\u001b[0m: module 'helper_functions' has no attribute 'process_videos'"
     ]
    }
   ],
   "source": [
    "hf.process_videos(videos_folder, video_frames)"
   ]
  },
  {
   "cell_type": "code",
   "execution_count": null,
   "metadata": {},
   "outputs": [],
   "source": []
  }
 ],
 "metadata": {
  "kernelspec": {
   "display_name": "YOLOv8",
   "language": "python",
   "name": "python3"
  },
  "language_info": {
   "codemirror_mode": {
    "name": "ipython",
    "version": 3
   },
   "file_extension": ".py",
   "mimetype": "text/x-python",
   "name": "python",
   "nbconvert_exporter": "python",
   "pygments_lexer": "ipython3",
   "version": "3.11.3"
  }
 },
 "nbformat": 4,
 "nbformat_minor": 2
}
