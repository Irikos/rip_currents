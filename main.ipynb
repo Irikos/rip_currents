{
 "cells": [
  {
   "cell_type": "code",
   "execution_count": 1,
   "metadata": {},
   "outputs": [
    {
     "name": "stdout",
     "output_type": "stream",
     "text": [
      "Hello, world!\n",
      "Actual file with the helper functions that can be imported.\n",
      "Importing libraries...\n",
      "Done importing libraries.\n"
     ]
    }
   ],
   "source": [
    "import helper_functions as hf\n",
    "import os"
   ]
  },
  {
   "cell_type": "code",
   "execution_count": null,
   "metadata": {},
   "outputs": [],
   "source": [
    "videos_folder = \"/home/andrei/Work/datasets/CVPR2023 Rip Current Segmentation: A Novel Benchmark and YOLOv8 Baseline Results/test videos/test videos\"\n",
    "annotations_folder = \"/home/andrei/Work/datasets/CVPR2023 Rip Current Segmentation: A Novel Benchmark and YOLOv8 Baseline Results/test videos/annotations\"\n",
    "video_frames = \"/home/andrei/Work/datasets/CVPR2023 Rip Current Segmentation: A Novel Benchmark and YOLOv8 Baseline Results/test videos/videos_frames (full)\""
   ]
  },
  {
   "cell_type": "code",
   "execution_count": null,
   "metadata": {},
   "outputs": [],
   "source": [
    "# hf.process_videos(videos_folder, video_frames)"
   ]
  },
  {
   "cell_type": "code",
   "execution_count": null,
   "metadata": {},
   "outputs": [],
   "source": [
    "original_labels = \"/home/andrei/Work/datasets/CVPR2023 Rip Current Segmentation: A Novel Benchmark and YOLOv8 Baseline Results/test videos (frames)/labels/\"\n",
    "videos_folder = \"/home/andrei/Work/datasets/CVPR2023 Rip Current Segmentation: A Novel Benchmark and YOLOv8 Baseline Results/code_test/Videos (code test)/\"\n",
    "destination_folder = \"/home/andrei/Work/datasets/CVPR2023 Rip Current Segmentation: A Novel Benchmark and YOLOv8 Baseline Results/code_test/Annotations (code test)/\""
   ]
  },
  {
   "cell_type": "code",
   "execution_count": null,
   "metadata": {},
   "outputs": [],
   "source": [
    "hf.create_subfolders_with_annotations(videos_folder, original_labels, destination_folder)"
   ]
  }
 ],
 "metadata": {
  "kernelspec": {
   "display_name": "YOLOv8",
   "language": "python",
   "name": "python3"
  },
  "language_info": {
   "codemirror_mode": {
    "name": "ipython",
    "version": 3
   },
   "file_extension": ".py",
   "mimetype": "text/x-python",
   "name": "python",
   "nbconvert_exporter": "python",
   "pygments_lexer": "ipython3",
   "version": "3.11.3"
  }
 },
 "nbformat": 4,
 "nbformat_minor": 2
}
