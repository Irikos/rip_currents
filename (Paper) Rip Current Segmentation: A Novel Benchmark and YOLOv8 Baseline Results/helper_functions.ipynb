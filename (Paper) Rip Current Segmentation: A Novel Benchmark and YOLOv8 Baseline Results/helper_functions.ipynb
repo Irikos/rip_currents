{
 "cells": [
  {
   "cell_type": "code",
   "execution_count": 4,
   "metadata": {},
   "outputs": [],
   "source": [
    "import os\n",
    "import glob"
   ]
  },
  {
   "cell_type": "code",
   "execution_count": 5,
   "metadata": {},
   "outputs": [],
   "source": [
    "# parse all files in a folder and remove everything after the \"_jpg.rf\" part in the file name \n",
    "# (check if it exists first) and add its extension at the end\n",
    "\n",
    "# apply for both labels ('.txt') and images ('.jpg')\n",
    "\n",
    "def rename_files(path, extension):\n",
    "    for filename in glob.glob(os.path.join(path, '*.*')):\n",
    "        if \"_jpg.rf\" in filename:\n",
    "            os.rename(filename, filename.split(\"_jpg.rf\")[0] + extension)\n",
    "        else:\n",
    "            print(\"File \" + filename + \" does not contain '_jpg.rf'\")"
   ]
  }
 ],
 "metadata": {
  "kernelspec": {
   "display_name": "pytorch_tutorials",
   "language": "python",
   "name": "python3"
  },
  "language_info": {
   "codemirror_mode": {
    "name": "ipython",
    "version": 3
   },
   "file_extension": ".py",
   "mimetype": "text/x-python",
   "name": "python",
   "nbconvert_exporter": "python",
   "pygments_lexer": "ipython3",
   "version": "3.10.4"
  },
  "orig_nbformat": 4,
  "vscode": {
   "interpreter": {
    "hash": "28b49a647281000ce5f9b25ac41f952198f76433a89acf2ba2ad430f99d5fefa"
   }
  }
 },
 "nbformat": 4,
 "nbformat_minor": 2
}
