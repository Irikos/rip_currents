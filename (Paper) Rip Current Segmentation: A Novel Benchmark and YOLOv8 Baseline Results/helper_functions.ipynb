{
 "cells": [
  {
   "cell_type": "code",
   "execution_count": 4,
   "metadata": {},
   "outputs": [],
   "source": [
    "import os\n",
    "import glob"
   ]
  },
  {
   "cell_type": "code",
   "execution_count": null,
   "metadata": {},
   "outputs": [],
   "source": [
    "# parse all files in a folder and remove everything after the \"_jpg.rf\" part in the file name \n",
    "# (check if it exists first) and add its extension at the end\n",
    "# Usage: rename_files(\"path/to/folder\", \".txt\")\n",
    "# apply for both labels ('.txt') and images ('.jpg')\n",
    "\n",
    "# Useful when for files downloaded from Roboflow, which append the extension at the end of the file name\n",
    "\n",
    "def rename_files(path, extension):\n",
    "    counter = 0\n",
    "    for filename in glob.glob(os.path.join(path, '*.*')):\n",
    "        if \"_jpg.rf\" in filename:\n",
    "            os.rename(filename, filename.split(\"_jpg.rf\")[0] + extension)\n",
    "            counter += 1\n",
    "        else:\n",
    "            print(\"File \" + filename + \" does not contain '_jpg.rf'\")\n",
    "    print(\"Renamed \" + str(counter) + \" files\")\n"
   ]
  },
  {
   "cell_type": "code",
   "execution_count": null,
   "metadata": {},
   "outputs": [],
   "source": [
    "# change all file extensions in a folder from jpg to txt.\n",
    "# use in case you changed the file extension by mistake\n",
    "# Usage: change_file_extension(\"path/to/folder\", \".jpg\", \".txt\")\n",
    "\n",
    "def change_file_extension(path, old_extension, new_extension):\n",
    "    counter = 0\n",
    "    for filename in glob.glob(os.path.join(path, '*.*')):\n",
    "        if old_extension in filename:\n",
    "            os.rename(filename, filename.split(old_extension)[0] + new_extension)\n",
    "            counter += 1\n",
    "        else:\n",
    "            print(\"File \" + filename + \" does not contain \" + old_extension)\n",
    "    print(\"Changed \" + str(counter) + \" files\")"
   ]
  }
 ],
 "metadata": {
  "kernelspec": {
   "display_name": "pytorch_tutorials",
   "language": "python",
   "name": "python3"
  },
  "language_info": {
   "codemirror_mode": {
    "name": "ipython",
    "version": 3
   },
   "file_extension": ".py",
   "mimetype": "text/x-python",
   "name": "python",
   "nbconvert_exporter": "python",
   "pygments_lexer": "ipython3",
   "version": "3.10.4"
  },
  "orig_nbformat": 4,
  "vscode": {
   "interpreter": {
    "hash": "28b49a647281000ce5f9b25ac41f952198f76433a89acf2ba2ad430f99d5fefa"
   }
  }
 },
 "nbformat": 4,
 "nbformat_minor": 2
}
