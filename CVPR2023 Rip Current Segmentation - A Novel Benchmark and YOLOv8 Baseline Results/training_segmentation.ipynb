{
 "cells": [
  {
   "cell_type": "code",
   "execution_count": 2,
   "metadata": {},
   "outputs": [],
   "source": [
    "from ultralytics import YOLO\n",
    "import os\n",
    "import time"
   ]
  },
  {
   "cell_type": "code",
   "execution_count": 3,
   "metadata": {},
   "outputs": [],
   "source": [
    "KFOLD_FOLDER = \"/home/irikos/Work/datasets/rip_currents/YOLO-Rip-seg/train/10fold/\""
   ]
  },
  {
   "cell_type": "code",
   "execution_count": 4,
   "metadata": {},
   "outputs": [],
   "source": [
    "def read_images_path(path, format=\".jpg\", sorted=False):\n",
    "    files = []\n",
    "    for file in os.listdir(path):\n",
    "        if file.endswith(format) or file.endswith(format.upper()):\n",
    "            files.append(file)\n",
    "    if (sorted==True):\n",
    "        files.sort(key=lambda f: int(''.join(filter(str.isdigit, f))))\n",
    "    return files"
   ]
  },
  {
   "cell_type": "code",
   "execution_count": 5,
   "metadata": {},
   "outputs": [],
   "source": [
    "yaml_files = read_images_path(KFOLD_FOLDER, '.yaml', sorted=True)"
   ]
  },
  {
   "cell_type": "code",
   "execution_count": 5,
   "metadata": {},
   "outputs": [],
   "source": [
    "# YOLOv8n\n",
    "\n",
    "# for i, file in enumerate(yaml_files):\n",
    "#     start_time = time.time()\n",
    "#     current_yaml = KFOLD_FOLDER + '/' + file\n",
    "#     current_iteration = \"yoloV8n_seg_bg_\" + str(i)\n",
    "#     !yolo task=segment mode=train model=yolov8n-seg.pt data=$current_yaml epochs=300 imgsz=640 batch=64 workers=24 name=$current_iteration\n",
    "#     e = int(time.time() - start_time)\n",
    "#     print('{:02d}:{:02d}:{:02d}'.format(e // 3600, (e % 3600 // 60), e % 60))\n",
    "#     print(\"Ended fold no: \" + str(i) + \"\\n\")"
   ]
  },
  {
   "cell_type": "code",
   "execution_count": 1,
   "metadata": {},
   "outputs": [],
   "source": [
    "# YOLOV8s\n",
    "\n",
    "# for i, file in enumerate(yaml_files):\n",
    "#     start_time = time.time()\n",
    "#     current_yaml = KFOLD_FOLDER + '/' + file\n",
    "#     current_iteration = \"yoloV8s_seg_bg_\" + str(i)\n",
    "#     !yolo task=segment mode=train model=yolov8s-seg.pt data=$current_yaml epochs=300 imgsz=640 batch=64 workers=24 name=$current_iteration\n",
    "#     e = int(time.time() - start_time)\n",
    "#     print('{:02d}:{:02d}:{:02d}'.format(e // 3600, (e % 3600 // 60), e % 60))\n",
    "#     print(\"Ended fold no: \" + str(i) + \"\\n\")"
   ]
  },
  {
   "cell_type": "code",
   "execution_count": 2,
   "metadata": {},
   "outputs": [],
   "source": [
    "# YOLOv8m\n",
    "\n",
    "# for i, file in enumerate(yaml_files):\n",
    "#     start_time = time.time()\n",
    "#     current_yaml = KFOLD_FOLDER + '/' + file\n",
    "#     current_iteration = \"yoloV8m_seg_bg_\" + str(i)\n",
    "#     !yolo task=segment mode=train model=yolov8m-seg.pt data=$current_yaml epochs=300 imgsz=640 batch=32 workers=24 name=$current_iteration\n",
    "#     e = int(time.time() - start_time)\n",
    "#     print('{:02d}:{:02d}:{:02d}'.format(e // 3600, (e % 3600 // 60), e % 60))\n",
    "#     print(\"Ended fold no: \" + str(i) + \"\\n\")"
   ]
  },
  {
   "cell_type": "code",
   "execution_count": 3,
   "metadata": {},
   "outputs": [],
   "source": [
    "# YOLOv8l\n",
    "\n",
    "# for i, file in enumerate(yaml_files):\n",
    "#     start_time = time.time()\n",
    "#     current_yaml = KFOLD_FOLDER + '/' + file\n",
    "#     current_iteration = \"yoloV8l_seg_bg_\" + str(i)\n",
    "#     !yolo task=segment mode=train model=yolov8l-seg.pt data=$current_yaml epochs=300 imgsz=640 batch=24 workers=24 name=$current_iteration\n",
    "#     e = int(time.time() - start_time)\n",
    "#     print('{:02d}:{:02d}:{:02d}'.format(e // 3600, (e % 3600 // 60), e % 60))\n",
    "#     print(\"Ended fold no: \" + str(i) + \"\\n\")"
   ]
  },
  {
   "cell_type": "code",
   "execution_count": 4,
   "metadata": {},
   "outputs": [],
   "source": [
    "# YOLOv8x\n",
    "\n",
    "# for i, file in enumerate(yaml_files):\n",
    "#     start_time = time.time()\n",
    "#     current_yaml = KFOLD_FOLDER + '/' + file\n",
    "#     current_iteration = \"yoloV8x_seg_bg_\" + str(i)\n",
    "#     !yolo task=segment mode=train model=yolov8x-seg.pt data=$current_yaml epochs=300 imgsz=640 batch=12 workers=24 name=$current_iteration\n",
    "#     e = int(time.time() - start_time)\n",
    "#     print('{:02d}:{:02d}:{:02d}'.format(e // 3600, (e % 3600 // 60), e % 60))\n",
    "#     print(\"Ended fold no: \" + str(i) + \"\\n\")"
   ]
  }
 ],
 "metadata": {
  "kernelspec": {
   "display_name": "yoloV8",
   "language": "python",
   "name": "python3"
  },
  "language_info": {
   "codemirror_mode": {
    "name": "ipython",
    "version": 3
   },
   "file_extension": ".py",
   "mimetype": "text/x-python",
   "name": "python",
   "nbconvert_exporter": "python",
   "pygments_lexer": "ipython3",
   "version": "3.10.4"
  },
  "orig_nbformat": 4,
  "vscode": {
   "interpreter": {
    "hash": "8b58ddf53c25cd8fdeeb942e1329169e46c90cd5283bb2b706e1e01424258210"
   }
  }
 },
 "nbformat": 4,
 "nbformat_minor": 2
}
