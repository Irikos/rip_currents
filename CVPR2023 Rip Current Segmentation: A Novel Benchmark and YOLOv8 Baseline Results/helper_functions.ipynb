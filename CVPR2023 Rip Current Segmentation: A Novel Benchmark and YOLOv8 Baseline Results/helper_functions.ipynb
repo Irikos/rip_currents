{
 "cells": [
  {
   "cell_type": "code",
   "execution_count": 1,
   "metadata": {},
   "outputs": [],
   "source": [
    "import os\n",
    "import glob\n",
    "import cv2\n",
    "import numpy as np"
   ]
  },
  {
   "cell_type": "code",
   "execution_count": null,
   "metadata": {},
   "outputs": [],
   "source": [
    "def rename_files_from_roboflow(path, extension):\n",
    "    \"\"\"\n",
    "    Renames files in a given directory by removing a specific pattern and appending a new extension.\n",
    "\n",
    "    This function is particularly useful for files downloaded from Roboflow, where the original \n",
    "    extension is appended at the end of the filename. It searches for files containing the pattern \n",
    "    '_jpg.rf' and replaces it with the specified extension.\n",
    "\n",
    "    Parameters:\n",
    "        path (str): Directory containing the files to be renamed.\n",
    "        extension (str): New extension to be appended after removing the pattern.\n",
    "\n",
    "    The function reports the number of files renamed and notifies about files not matching the pattern.\n",
    "\n",
    "    Usage:\n",
    "        rename_files_from_roboflow(\"path/to/folder\", \".jpg\")  # For images\n",
    "        rename_files_from_roboflow(\"path/to/folder\", \".txt\")  # For label files\n",
    "    \"\"\" \n",
    "    counter = 0\n",
    "    for filename in glob.glob(os.path.join(path, '*.*')):\n",
    "        if \"_jpg.rf\" in filename:\n",
    "            os.rename(filename, filename.split(\"_jpg.rf\")[0] + extension)\n",
    "            counter += 1\n",
    "        else:\n",
    "            print(\"File \" + filename + \" does not contain '_jpg.rf'\")\n",
    "    print(\"Renamed \" + str(counter) + \" files\")\n"
   ]
  },
  {
   "cell_type": "code",
   "execution_count": null,
   "metadata": {},
   "outputs": [],
   "source": [
    "def change_file_extension(path, old_extension, new_extension):\n",
    "    \"\"\"\" \n",
    "    Change all file extensions in a folder from jpg to txt.\n",
    "    Use in case you changed the file extension by mistake\n",
    "    Usage: change_file_extension(\"path/to/folder\", \".jpg\", \".txt\")\n",
    "    \"\"\"\n",
    "    counter = 0\n",
    "    for filename in glob.glob(os.path.join(path, '*.*')):\n",
    "        if old_extension in filename:\n",
    "            os.rename(filename, filename.split(old_extension)[0] + new_extension)\n",
    "            counter += 1\n",
    "        else:\n",
    "            print(\"File \" + filename + \" does not contain \" + old_extension)\n",
    "    print(\"Changed \" + str(counter) + \" files\")"
   ]
  },
  {
   "cell_type": "code",
   "execution_count": null,
   "metadata": {},
   "outputs": [],
   "source": [
    "def draw_annotations(image_path, label_path, output_path, alpha=0.4, filled=False, border_thickness=2):\n",
    "    \"\"\"\n",
    "    Draws bounding boxes and polygons on an image based on YOLO format annotations.\n",
    "\n",
    "    Parameters:\n",
    "        image_path (str): Path to the input image.\n",
    "        label_path (str): Path to the label file with YOLO format annotations.\n",
    "        output_path (str): Path for saving the output image.\n",
    "        alpha (float): Transparency factor for filled shapes (default 0.4). Effective only if 'filled' is True.\n",
    "        filled (bool): If True, draws filled shapes with transparency. If False, draws only the borders.\n",
    "        border_thickness (int): Thickness of the borders (default 2).\n",
    "\n",
    "    Annotations in the label file should be in YOLO format:\n",
    "    - For bounding boxes: <object_class> <x_center> <y_center> <width> <height>\n",
    "    - For polygons: <object_class> <x1> <y1> ... <xn> <yn>\n",
    "\n",
    "    Note: Object class '0' is for bounding boxes, '1' is for polygons. Coordinates are normalized to the image dimensions.\n",
    "    \"\"\"\n",
    "    image = cv2.imread(image_path)\n",
    "    height, width, channels = image.shape\n",
    "    overlay = image.copy()\n",
    "\n",
    "    with open(label_path, 'r') as f:\n",
    "        lines = f.readlines()\n",
    "        for line in lines:\n",
    "            line = line.split(' ')\n",
    "            object_class = int(line[0])\n",
    "\n",
    "            if object_class == 0:  # Bounding box\n",
    "                x_center = float(line[1]) * width\n",
    "                y_center = float(line[2]) * height\n",
    "                w = float(line[3]) * width\n",
    "                h = float(line[4]) * height\n",
    "                x1 = int(x_center - w / 2)\n",
    "                y1 = int(y_center - h / 2)\n",
    "                x2 = int(x_center + w / 2)\n",
    "                y2 = int(y_center + h / 2)\n",
    "\n",
    "                if filled:\n",
    "                    cv2.rectangle(overlay, (x1, y1), (x2, y2), (0, 255, 0), thickness=cv2.FILLED)\n",
    "                cv2.rectangle(image, (x1, y1), (x2, y2), (0, 255, 0), thickness=border_thickness)\n",
    "\n",
    "            elif object_class == 1:  # Polygon\n",
    "                points = []\n",
    "                for i in range(1, len(line), 2):\n",
    "                    points.append((int(float(line[i]) * width), int(float(line[i + 1]) * height)))\n",
    "                points = np.array([points], dtype=np.int32)\n",
    "\n",
    "                if filled:\n",
    "                    cv2.fillPoly(overlay, [points], (0, 0, 255))\n",
    "                cv2.polylines(image, [points], True, (0, 0, 255), thickness=border_thickness)\n",
    "\n",
    "    if filled:\n",
    "        cv2.addWeighted(overlay, alpha, image, 1 - alpha, 0, image)\n",
    "    cv2.imwrite(output_path, image)"
   ]
  }
 ],
 "metadata": {
  "kernelspec": {
   "display_name": "pytorch_tutorials",
   "language": "python",
   "name": "python3"
  },
  "language_info": {
   "codemirror_mode": {
    "name": "ipython",
    "version": 3
   },
   "file_extension": ".py",
   "mimetype": "text/x-python",
   "name": "python",
   "nbconvert_exporter": "python",
   "pygments_lexer": "ipython3",
   "version": "3.11.3"
  },
  "orig_nbformat": 4,
  "vscode": {
   "interpreter": {
    "hash": "28b49a647281000ce5f9b25ac41f952198f76433a89acf2ba2ad430f99d5fefa"
   }
  }
 },
 "nbformat": 4,
 "nbformat_minor": 2
}
